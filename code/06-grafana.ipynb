{
 "cells": [
  {
   "cell_type": "markdown",
   "metadata": {},
   "source": [
    "# Create a Grafana Data Source and Dashboard"
   ]
  },
  {
   "cell_type": "markdown",
   "metadata": {},
   "source": [
    "Follow the steps in this this tutorial to create a \"stocks\" Grafana dashboard using Iguazio data source <br>\n",
    "Note that you need to create a Grafana service before running the notebook <br>\n",
    "Creating a grafana service can be done from the \"services\" screen in the Platform"
   ]
  },
  {
   "cell_type": "code",
   "execution_count": null,
   "metadata": {},
   "outputs": [],
   "source": [
    "!pip install git+https://github.com/v3io/grafwiz.git"
   ]
  },
  {
   "cell_type": "code",
   "execution_count": null,
   "metadata": {},
   "outputs": [],
   "source": [
    "from grafwiz import *\n",
    "import os"
   ]
  },
  {
   "cell_type": "code",
   "execution_count": null,
   "metadata": {},
   "outputs": [],
   "source": [
    "# Grafana internal cluster address (will be http://grafana)\n",
    "grafana_url = 'http://grafana-roy-external-users.default-tenant.app.dev83.lab.iguazeng.com'\n",
    "# External URL of the demo's stream-viewer Nuclio serverless function\n",
    "\n",
    "streamview_url = 'https://webapi.default-tenant.app.dev83.lab.iguazeng.com'"
   ]
  },
  {
   "cell_type": "code",
   "execution_count": null,
   "metadata": {},
   "outputs": [],
   "source": [
    "# Create a new Grafana dashboard\n",
    "dash = Dashboard(\"stocks\", start='now-1d', dataSource='iguazio')\n",
    "\n",
    "# Add a symbol combo box (template) with data from the stocks table\n",
    "dash.template(name=\"SYMBOL\", label=\"Symbol\", query=\"fields=symbol;table=stocks;backend=kv;container=bigdata\")\n",
    "\n",
    "# Create a table and log viewer in one row\n",
    "tbl = Table('tbl1',span=8).source(table='stocks',fields=['symbol','volume', 'price','last_updated'],container='bigdata')\n",
    "log = Ajax(title='Log',url=streamview_url)\n",
    "dash.row([tbl,log])\n",
    "\n",
    "# Create 3 charts on the second row\n",
    "dash.row([Graph(metric).series(table=\"stock_metrics\", fields=[metric], filter='symbol==\"$SYMBOL\"',container='bigdata') for metric in ['price','volume','sentiment']])\n",
    "\n",
    "# Deploy to Grafana\n",
    "dash.deploy(grafana_url)"
   ]
  },
  {
   "cell_type": "code",
   "execution_count": null,
   "metadata": {},
   "outputs": [],
   "source": []
  }
 ],
 "metadata": {
  "kernelspec": {
   "display_name": "Python 3",
   "language": "python",
   "name": "python3"
  },
  "language_info": {
   "codemirror_mode": {
    "name": "ipython",
    "version": 3
   },
   "file_extension": ".py",
   "mimetype": "text/x-python",
   "name": "python",
   "nbconvert_exporter": "python",
   "pygments_lexer": "ipython3",
   "version": "3.7.5"
  }
 },
 "nbformat": 4,
 "nbformat_minor": 4
}
