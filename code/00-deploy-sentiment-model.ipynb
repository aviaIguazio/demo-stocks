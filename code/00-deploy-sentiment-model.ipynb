{
 "cells": [
  {
   "cell_type": "markdown",
   "metadata": {},
   "source": [
    "### Sentiment Model Deployment\n",
    "We will begin the process by deploying the sentiment model server. <br>\n",
    "First download the model file using the following command:"
   ]
  },
  {
   "cell_type": "code",
   "execution_count": 1,
   "metadata": {},
   "outputs": [
    {
     "name": "stdout",
     "output_type": "stream",
     "text": [
      "--2020-08-20 08:27:02--  https://iguazio-sample-data.s3.amazonaws.com/models/model.pt\n",
      "Resolving iguazio-sample-data.s3.amazonaws.com (iguazio-sample-data.s3.amazonaws.com)... 52.216.18.152\n",
      "Connecting to iguazio-sample-data.s3.amazonaws.com (iguazio-sample-data.s3.amazonaws.com)|52.216.18.152|:443... connected.\n",
      "HTTP request sent, awaiting response... 200 OK\n",
      "Length: 433298364 (413M) [application/x-www-form-urlencoded]\n",
      "Saving to: ‘model.pt’\n",
      "\n",
      "model.pt            100%[===================>] 413.22M  12.2MB/s    in 35s     \n",
      "\n",
      "2020-08-20 08:27:37 (11.9 MB/s) - ‘model.pt’ saved [433298364/433298364]\n",
      "\n"
     ]
    }
   ],
   "source": [
    "! wget https://iguazio-sample-data.s3.amazonaws.com/models/model.pt"
   ]
  },
  {
   "cell_type": "code",
   "execution_count": 2,
   "metadata": {},
   "outputs": [],
   "source": [
    "! mkdir /User/models/\n",
    "! mv model.pt /User/models/model.pt"
   ]
  },
  {
   "cell_type": "markdown",
   "metadata": {},
   "source": [
    "Next, we will import the sentiment server from mlrun's function hub."
   ]
  },
  {
   "cell_type": "code",
   "execution_count": 7,
   "metadata": {},
   "outputs": [],
   "source": [
    "from mlrun import import_function, mount_v3io\n",
    "server_fn = import_function(url='hub://sentiment_analysis_serving')\n",
    "server_fn.apply(mount_v3io())\n",
    "server_fn.metadata.labels = {}"
   ]
  },
  {
   "cell_type": "markdown",
   "metadata": {},
   "source": [
    "Finally, deploy it to the cluster."
   ]
  },
  {
   "cell_type": "code",
   "execution_count": 8,
   "metadata": {},
   "outputs": [
    {
     "name": "stdout",
     "output_type": "stream",
     "text": [
      "> 2020-08-30 04:17:28,194 [info] deploy started\n",
      "[nuclio] 2020-08-30 04:17:29,263 (info) Build complete\n",
      "[nuclio] 2020-08-30 04:17:53,811 (info) Function deploy complete\n",
      "[nuclio] 2020-08-30 04:17:53,816 done updating stocks-sentiment-analysis-server, function address: 18.217.172.163:30734\n"
     ]
    },
    {
     "data": {
      "text/plain": [
       "'http://18.217.172.163:30734'"
      ]
     },
     "execution_count": 8,
     "metadata": {},
     "output_type": "execute_result"
    }
   ],
   "source": [
    "server_fn.deploy(project='stocks')"
   ]
  },
  {
   "cell_type": "markdown",
   "metadata": {},
   "source": [
    "Please note the http endpoint above. We will use it later on."
   ]
  }
 ],
 "metadata": {
  "kernelspec": {
   "display_name": "Python 3",
   "language": "python",
   "name": "python3"
  },
  "language_info": {
   "codemirror_mode": {
    "name": "ipython",
    "version": 3
   },
   "file_extension": ".py",
   "mimetype": "text/x-python",
   "name": "python",
   "nbconvert_exporter": "python",
   "pygments_lexer": "ipython3",
   "version": "3.7.6"
  }
 },
 "nbformat": 4,
 "nbformat_minor": 4
}
