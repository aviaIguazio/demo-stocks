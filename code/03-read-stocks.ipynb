{
 "cells": [
  {
   "cell_type": "markdown",
   "metadata": {},
   "source": [
    "# Ingest Real-Time Stock Data to Iguazio NoSQL and Time-series DB\n",
    "the following example function ingest real-time stock information from an internet service (Yahoo finance api) into iguazio platform.<br>\n",
    "everytime the data is updated it updates a NoSQL table with the recent metadata and updates the time-series DB with the new metrics (price and volume)\n",
    "\n",
    "The same code can run inside a nuclio (serverless) function and be automatically triggered on a predefined schedule (cron) or through HTTP requests<br>\n",
    "\n",
    "the example demonstrate the use of `%nuclio` magic commands to specify environment variables, package dependencies,<br>configurations (such as the cron schedule), and to deploy functions automatically onto a cluster."
   ]
  },
  {
   "cell_type": "code",
   "execution_count": 1,
   "metadata": {},
   "outputs": [],
   "source": [
    "# nuclio: ignore\n",
    "# if the nuclio-jupyter package is not installed run !pip install nuclio-jupyter\n",
    "import nuclio "
   ]
  },
  {
   "cell_type": "markdown",
   "metadata": {},
   "source": [
    "copy the local credentials to the nuclio function config (-c option doesn't initialize locally)"
   ]
  },
  {
   "cell_type": "code",
   "execution_count": 2,
   "metadata": {},
   "outputs": [],
   "source": [
    "%nuclio env -c V3IO_ACCESS_KEY=${V3IO_ACCESS_KEY}\n",
    "%nuclio env -c V3IO_USERNAME=${V3IO_USERNAME}\n",
    "%nuclio env -c V3IO_API=${V3IO_API}"
   ]
  },
  {
   "cell_type": "markdown",
   "metadata": {},
   "source": [
    "### Set function configuration \n",
    "use a cron trigger with 5min interval and define the base image<br>\n",
    "for more details check [nuclio function configuration reference](https://github.com/nuclio/nuclio/blob/master/docs/reference/function-configuration/function-configuration-reference.md)"
   ]
  },
  {
   "cell_type": "code",
   "execution_count": 4,
   "metadata": {},
   "outputs": [
    {
     "name": "stdout",
     "output_type": "stream",
     "text": [
      "%nuclio: setting spec.triggers.secs.kind to 'cron'\n",
      "%nuclio: setting spec.triggers.secs.attributes.interval to '300s'\n",
      "%nuclio: setting spec.build.baseImage to 'python:3.6-jessie'\n"
     ]
    }
   ],
   "source": [
    "%%nuclio config \n",
    "spec.triggers.secs.kind = \"cron\"\n",
    "spec.triggers.secs.attributes.interval = \"300s\"\n",
    "spec.build.baseImage = \"python:3.6-jessie\""
   ]
  },
  {
   "cell_type": "markdown",
   "metadata": {},
   "source": [
    "### Install required packages\n",
    "`%nuclio cmd` allows you to run image build instructions and install packages<br>\n",
    "Note: `-c` option will only install in nuclio, not locally"
   ]
  },
  {
   "cell_type": "code",
   "execution_count": 5,
   "metadata": {},
   "outputs": [],
   "source": [
    "%%nuclio cmd -c \n",
    "pip install lxml\n",
    "pip install yfinance\n",
    "pip install requests\n",
    "pip install v3io_frames"
   ]
  },
  {
   "cell_type": "markdown",
   "metadata": {},
   "source": [
    "## Nuclio function implementation\n",
    "this function can run in Jupyter or in nuclio (real-time serverless)"
   ]
  },
  {
   "cell_type": "code",
   "execution_count": 2,
   "metadata": {},
   "outputs": [],
   "source": [
    "import json\n",
    "import requests\n",
    "import yfinance as yf\n",
    "import os\n",
    "import pandas as pd\n",
    "import datetime\n",
    "import v3io_frames as v3f\n",
    "\n",
    "stocks = os.getenv('STOCK_LIST','GOOG,MSFT,AMZN,AAPL,INTC')\n",
    "stock_syms = stocks.split(',')\n",
    "client = v3f.Client('framesd:8081',container='bigdata')\n",
    "\n",
    "# v3io update expression template \n",
    "expr_template = \"symbol='{symbol}';price={price};volume={volume};last_updated='{last_updated}'\"\n",
    "\n",
    "last_trade_times = {}\n",
    "\n",
    "# nuclio handler function \n",
    "def handler(context, event):\n",
    "    \n",
    "    stocks=[]; times=[]; volumes=[]; prices=[]\n",
    "    \n",
    "    for sym in stock_syms:\n",
    "        last = last_trade_times.get(sym)\n",
    "        \n",
    "        hist = yf.Ticker(sym).history(period='60m', interval='60m')\n",
    "        time = hist.index[len(hist) - 1]\n",
    "        record = hist.loc[time]\n",
    "        last = last_trade_times.get(sym)\n",
    "        \n",
    "        # update the stocks table and TSDB metrics in case of new data \n",
    "        if not last or time > last:\n",
    "            \n",
    "            # update NoSQL table with stock data\n",
    "            stock = {'symbol': sym, 'price': record['Close'], 'volume': record['Volume'], 'last_updated': time}\n",
    "            expr = expr_template.format(**stock)\n",
    "            context.logger.debug_with('update expression', symbol=sym, expr=expr)\n",
    "            client.execute('kv','stocks','update', args={'key':sym, 'expression': expr})\n",
    "        \n",
    "            # update time-series DB with price and volume metrics (use pandas dataframe with a single row, indexed by date)\n",
    "            last_trade_times[sym] = time \n",
    "            stocks += [sym]\n",
    "            times +=[time]\n",
    "            volumes += [record['Volume']]\n",
    "            prices += [record['Close']]\n",
    "               \n",
    "    # write price and volume metrics to the Time-Series DB, add exchange label\n",
    "    if len(stocks)>0:\n",
    "        df = pd.DataFrame({'volume':volumes,'price': prices}, index=[times,stocks], columns=['volume','price'])\n",
    "        df.index.names=['time','symbol']\n",
    "        context.logger.debug_with('writing data to TSDB', stocks=stocks)\n",
    "        client.write(backend='tsdb', table='stock_metrics',dfs=df)\n",
    "        \n",
    "    return 'done'"
   ]
  },
  {
   "cell_type": "markdown",
   "metadata": {},
   "source": [
    "## Function invocation\n",
    "the following section simulates nuclio function invocation and will emit the function results"
   ]
  },
  {
   "cell_type": "code",
   "execution_count": 3,
   "metadata": {},
   "outputs": [
    {
     "data": {
      "text/plain": [
       "'done'"
      ]
     },
     "execution_count": 3,
     "metadata": {},
     "output_type": "execute_result"
    }
   ],
   "source": [
    "# nuclio: ignore\n",
    "# create a test event and invoke the function locally \n",
    "event = nuclio.Event(body='')\n",
    "handler(context, event)"
   ]
  },
  {
   "cell_type": "markdown",
   "metadata": {},
   "source": [
    "## Deploy a function onto a cluster\n",
    "the `%nuclio deploy` command deploy functions into a cluster, make sure the notebook is saved prior to running it !<br>check the help (`%nuclio help deploy`) for more information"
   ]
  },
  {
   "cell_type": "code",
   "execution_count": 4,
   "metadata": {},
   "outputs": [
    {
     "name": "stdout",
     "output_type": "stream",
     "text": [
      "[nuclio] 2020-08-05 06:08:33,321 (info) Building processor image\n",
      "[nuclio] 2020-08-05 06:08:35,344 (info) Build complete\n",
      "[nuclio] 2020-08-05 06:08:39,389 (info) Function deploy complete\n",
      "[nuclio] 2020-08-05 06:08:39,398 done creating read-stocks, function address: 192.168.224.185:32488\n",
      "%nuclio: function deployed\n"
     ]
    }
   ],
   "source": [
    "%nuclio deploy -p stocks -n read-stocks"
   ]
  },
  {
   "cell_type": "code",
   "execution_count": null,
   "metadata": {},
   "outputs": [],
   "source": []
  }
 ],
 "metadata": {
  "kernelspec": {
   "display_name": "Python 3",
   "language": "python",
   "name": "python3"
  },
  "language_info": {
   "codemirror_mode": {
    "name": "ipython",
    "version": 3
   },
   "file_extension": ".py",
   "mimetype": "text/x-python",
   "name": "python",
   "nbconvert_exporter": "python",
   "pygments_lexer": "ipython3",
   "version": "3.7.5"
  },
  "toc-autonumbering": false
 },
 "nbformat": 4,
 "nbformat_minor": 4
}
